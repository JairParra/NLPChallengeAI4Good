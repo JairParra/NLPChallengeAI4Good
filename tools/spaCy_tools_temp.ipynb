{
 "cells": [
  {
   "cell_type": "code",
   "execution_count": 2,
   "metadata": {},
   "outputs": [],
   "source": [
    "# French Tokenization, Lemmatization, POS tagging,  DEP tagger, stop words"
   ]
  },
  {
   "cell_type": "code",
   "execution_count": 3,
   "metadata": {},
   "outputs": [
    {
     "name": "stdout",
     "output_type": "stream",
     "text": [
      "En moyenne, les parents d'enfants du niveau préscolaire ont davantage participé aux ateliers. Le fait de réunir des parents d'enfants de mêmes catégories d'âges scolaires, permet d'orienter l'accompagnement au regard de défis propres aux différents degrés scolaires et vise à maintenir le rapprochement école-famille jusqu'à l'entrée au secondaire de l'enfant. \n"
     ]
    }
   ],
   "source": [
    "# Example taken from the given dataset , col = RESULTAT_2013\n",
    "\n",
    "# One tool we can use is nltk wordnet: it contains synsets that \n",
    "\n",
    "import nltk \n",
    "from nltk.corpus import wordnet as wn \n",
    "\n",
    "text = \"En moyenne, les parents d'enfants du niveau préscolaire ont davantage participé aux ateliers. Le fait de réunir des parents d'enfants de mêmes catégories d'âges scolaires, permet d'orienter l'accompagnement au regard de défis propres aux différents degrés scolaires et vise à maintenir le rapprochement école-famille jusqu'à l'entrée au secondaire de l'enfant. \"\n",
    "\n",
    "print(text)"
   ]
  },
  {
   "cell_type": "code",
   "execution_count": 7,
   "metadata": {},
   "outputs": [
    {
     "name": "stdout",
     "output_type": "stream",
     "text": [
      "***nltk tokenization*** \n",
      "\n",
      "['En', 'moyenne', ',', 'les', 'parents', \"d'enfants\", 'du', 'niveau', 'préscolaire', 'ont', 'davantage', 'participé', 'aux', 'ateliers', '.', 'Le', 'fait', 'de', 'réunir', 'des', 'parents', \"d'enfants\", 'de', 'mêmes', 'catégories', \"d'âges\", 'scolaires', ',', 'permet', \"d'orienter\", \"l'accompagnement\", 'au', 'regard', 'de', 'défis', 'propres', 'aux', 'différents', 'degrés', 'scolaires', 'et', 'vise', 'à', 'maintenir', 'le', 'rapprochement', 'école-famille', \"jusqu'à\", \"l'entrée\", 'au', 'secondaire', 'de', \"l'enfant\", '.'] \n",
      "\n",
      "[\"En moyenne, les parents d'enfants du niveau préscolaire ont davantage participé aux ateliers.\", \"Le fait de réunir des parents d'enfants de mêmes catégories d'âges scolaires, permet d'orienter l'accompagnement au regard de défis propres aux différents degrés scolaires et vise à maintenir le rapprochement école-famille jusqu'à l'entrée au secondaire de l'enfant.\"] \n",
      "\n",
      "***spacy tokenization*** \n",
      "\n",
      "['En', 'moyenne', 'les', 'parents', 'enfants', 'du', 'niveau', 'préscolaire', 'ont', 'davantage', 'participé', 'aux', 'ateliers', 'Le', 'fait', 'de', 'réunir', 'des', 'parents', 'enfants', 'de', 'mêmes', 'catégories', 'âges', 'scolaires', 'permet', 'orienter', 'accompagnement', 'au', 'regard', 'de', 'défis', 'propres', 'aux', 'différents', 'degrés', 'scolaires', 'et', 'vise', 'à', 'maintenir', 'le', 'rapprochement', 'école', 'famille', 'à', 'entrée', 'au', 'secondaire', 'de', 'enfant'] \n",
      "\n",
      "[En moyenne, les parents d'enfants du niveau préscolaire ont davantage participé aux ateliers., Le fait de réunir des parents d'enfants de mêmes catégories d'âges scolaires, permet d'orienter l'accompagnement au regard de défis propres aux différents degrés scolaires et vise à maintenir le rapprochement école-famille jusqu'à l'entrée au secondaire de l'enfant.] \n",
      "\n"
     ]
    }
   ],
   "source": [
    "### Tokenization ### \n",
    "\n",
    "## nltk ## \n",
    "print(\"***nltk tokenization*** \\n\")\n",
    "\n",
    "from nltk import word_tokenize\n",
    "from nltk import sent_tokenize\n",
    "\n",
    "word_tokens = [token for token in word_tokenize(text, language='french')] # tokenize by words\n",
    "sent_tokens = [sent for sent in sent_tokenize(text, language='french')] # tokenize by sentence\n",
    "print(word_tokens, \"\\n\") \n",
    "print(sent_tokens, \"\\n\")\n",
    "\n",
    "\n",
    "## spacy ## \n",
    "\n",
    "print(\"***spacy tokenization*** \\n\")\n",
    "\n",
    "import spacy\n",
    "\n",
    "nlp = spacy.load(\"fr_core_news_sm\")\n",
    "# NOTE: A more comprehensive model is available: fr_core_news_md\n",
    "# NOTE: Make sure to install required spaCy dependencies\n",
    "\n",
    "doc = nlp(text)\n",
    "\n",
    "sp_word_tokens = [token.text for token in doc if token.text.isalpha()]\n",
    "sp_sent_tokens = [sent for sent in doc.sents]\n",
    "print(sp_word_tokens, \"\\n\")\n",
    "print(sp_sent_tokens, \"\\n\")"
   ]
  },
  {
   "cell_type": "code",
   "execution_count": 9,
   "metadata": {},
   "outputs": [
    {
     "name": "stdout",
     "output_type": "stream",
     "text": [
      "***spacy lemmatization***\n",
      "\n",
      "[('En', 'en'), ('moyenne', 'moyenne'), ('les', 'le'), ('parents', 'parent'), ('enfants', 'enfant'), ('du', 'de'), ('niveau', 'niveau'), ('préscolaire', 'préscolaire'), ('ont', 'avoir'), ('davantage', 'davantage'), ('participé', 'participer'), ('aux', 'al'), ('ateliers', 'atelier'), ('Le', 'le'), ('fait', 'fait'), ('de', 'de'), ('réunir', 'réunir'), ('des', 'un'), ('parents', 'parent'), ('enfants', 'enfant'), ('de', 'de'), ('mêmes', 'même'), ('catégories', 'catégorie'), ('âges', 'âge'), ('scolaires', 'scolaire'), ('permet', 'permettre'), ('orienter', 'orienter'), ('accompagnement', 'accompagnement'), ('au', 'au'), ('regard', 'regard'), ('de', 'de'), ('défis', 'défi'), ('propres', 'propre'), ('aux', 'al'), ('différents', 'différent'), ('degrés', 'degré'), ('scolaires', 'scolaire'), ('et', 'et'), ('vise', 'vise'), ('à', 'à'), ('maintenir', 'maintenir'), ('le', 'le'), ('rapprochement', 'rapprochement'), ('école', 'école'), ('famille', 'famille'), ('à', 'à'), ('entrée', 'entrée'), ('au', 'au'), ('secondaire', 'secondaire'), ('de', 'de'), ('enfant', 'enfant')]\n",
      "Lemma:  en\n"
     ]
    }
   ],
   "source": [
    "### Lemmatization ### \n",
    "\n",
    "# Lemmatization is essentially getting the word in its base form (ie no conjugations, regular forms, etc)\n",
    "\n",
    "print(\"***spacy lemmatization***\\n\")\n",
    "\n",
    "import spacy\n",
    "\n",
    "nlp = spacy.load(\"fr_core_news_sm\")\n",
    "\n",
    "doc = nlp(text)\n",
    "doc_lemmas = [(token.text, token.lemma_) for token in doc if token.text.isalpha()]\n",
    "print(doc_lemmas)\n",
    "\n",
    "print(\"Lemma: \", doc_lemmas[0][1])\n"
   ]
  }
 ],
 "metadata": {
  "kernelspec": {
   "display_name": "Python 3",
   "language": "python",
   "name": "python3"
  },
  "language_info": {
   "codemirror_mode": {
    "name": "ipython",
    "version": 3
   },
   "file_extension": ".py",
   "mimetype": "text/x-python",
   "name": "python",
   "nbconvert_exporter": "python",
   "pygments_lexer": "ipython3",
   "version": "3.7.3"
  }
 },
 "nbformat": 4,
 "nbformat_minor": 2
}
