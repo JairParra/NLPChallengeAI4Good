{
  "nbformat": 4,
  "nbformat_minor": 0,
  "metadata": {
    "colab": {
      "name": "preprocess-data.ipynb",
      "version": "0.3.2",
      "provenance": [],
      "include_colab_link": true
    },
    "kernelspec": {
      "name": "python3",
      "display_name": "Python 3"
    }
  },
  "cells": [
    {
      "cell_type": "markdown",
      "metadata": {
        "id": "view-in-github",
        "colab_type": "text"
      },
      "source": [
        "<a href=\"https://colab.research.google.com/github/JairParra/NLPChallengeAI4Good/blob/master/tools/preprocess_data.ipynb\" target=\"_parent\"><img src=\"https://colab.research.google.com/assets/colab-badge.svg\" alt=\"Open In Colab\"/></a>"
      ]
    },
    {
      "cell_type": "code",
      "metadata": {
        "id": "s7MCOzKMR9xM",
        "colab_type": "code",
        "colab": {
          "base_uri": "https://localhost:8080/",
          "height": 51
        },
        "outputId": "72b4d051-c452-49dd-b103-0019e7ffaecf"
      },
      "source": [
        "#Imports\n",
        "import pandas as pd\n",
        "import nltk\n",
        "from nltk import word_tokenize\n",
        "from nltk import sent_tokenize\n",
        "import re\n",
        "from google.colab import files\n",
        "\n",
        "# Load results data from CSV\n",
        "baseresultats = pd.read_csv(\"Baseresultats - Liste brute.csv\")\n",
        "\n",
        "# Get data for year 2018\n",
        "data_2018 = baseresultats[[\"NO\", \"OBJECTIFS_2018\", \"RESULTATS_2018\", \"Type de résultat\"]].dropna()\n",
        "\n",
        "# Regexp to detect presense of digit as word in french\n",
        "word_digits_regexp = re.compile(r'zéro|un|deux|trois|quatre|cinq|six|sept|huit|neuf|dix|onze|douze|treize|quatorze|quinze|seize|dix-sept|dix-huit|dix-neuf|vingt|vingtetun|vingt-deux|vingt-trois|vingt-quatre|vingt-cinq|vingt-six|vingt-sept|vingt-huit|vingt-neuf|trente|Trenteetun|Trente-deux|Trente-trois|Trente-quatre|Trente-cinq|Trente-six|Trente-sept|Trente-huit|Trente-neuf|quarante|quaranteetun|quarante-deux|quarante-trois|quarante-quatre|quarante-cinq|quarante-six|quarante-sept|quarante-huit|quarante-neuf|cinquante|cinquanteetun|cinquante-deux|cinquante-trois|cinquante-quatre|cinquante-cinq|cinquante-six|cinquante-sept|cinquante-huit|cinquante-neuf|soixante|soixanteetun|soixante-deux|soixante-trois|soixante-quatre|soixante-cinq|soixante-six|soixante-sept|soixante-huit|soixante-neuf|soixante-dix|soixante-et-onze|soixante-douze|soixante-treize|soixante-quatorze|soixante-quinze|soixante-seize|soixante-dix-sept|soixante-dix-huit|soixante-dix-neuf|quatre-vingts|quatre-vingt-un|quatre-vingt-deux|quatre-vingt-trois|quatre-vingt-quatre|quatre-vingt-cinq|quatre-vingt-six|quatre-vingt-sept|quatre-vingt-huit|quatre-vingt-neuf|quatre-vingt-dix|quatre-vingt-onze|quatre-vingt-douze|quatre-vingt-treize|quatre-vingt-quatorze|quatre-vingt-quinze|quatre-vingt-seize|quatre-vingt-dix-sept|quatre-vingt-dix-huit|quatre-vingt-dix-neuf|cent', re.IGNORECASE)\n",
        "\n",
        "# Regexp to detect digit as digit\n",
        "digit_regex = re.compile(r'\\d+')\n",
        "\n",
        "# Donwload punctuation\n",
        "nltk.download('punkt')\n",
        "\n",
        "# Result of split with other data, like organization ID, Type of result etc.\n",
        "sentences = []\n",
        "for row in data_2018.itertuples():\n",
        "  # Replace line breaks with points\n",
        "  text = row.RESULTATS_2018\n",
        "  text = text.replace('\\n', '. ').replace('\\r', '. ')\n",
        "  # Split text into sentences\n",
        "  for sent in sent_tokenize(text, language='french'):\n",
        "    # If we have Autre, there is definitely no quantified impact\n",
        "    if row[4] == \"Autre\":\n",
        "      quantified = \"no\"\n",
        "    # Otherwise we do not know, so keep empty to fill in by human\n",
        "    else:\n",
        "      quantified = \"\"\n",
        "    # Find digit as digit or as word\n",
        "    if digit_regex.match(sent) or word_digits_regexp.match(sent):\n",
        "      has_digit = \"yes\"\n",
        "    else:\n",
        "      has_digit = \"no\"\n",
        "    # Append each sentence as a separate row to list\n",
        "    sentences.append([row.NO, sent, row[4], has_digit, quantified])\n",
        "# Save as CSV to disk    \n",
        "pd.DataFrame(data=sentences, columns=[\"NO\", \"sentence_RESULTATS_2018\", \"Type de résultat\", \"Has digit\", \"Has impact\"]).to_csv(\"sentences_classified.csv\")\n",
        "# Download the file\n",
        "files.download(\"sentences_classified.csv\")"
      ],
      "execution_count": 2,
      "outputs": [
        {
          "output_type": "stream",
          "text": [
            "[nltk_data] Downloading package punkt to /root/nltk_data...\n",
            "[nltk_data]   Package punkt is already up-to-date!\n"
          ],
          "name": "stdout"
        }
      ]
    },
    {
      "cell_type": "code",
      "metadata": {
        "id": "2GrwuhaKSI-U",
        "colab_type": "code",
        "colab": {}
      },
      "source": [
        ""
      ],
      "execution_count": 0,
      "outputs": []
    }
  ]
}