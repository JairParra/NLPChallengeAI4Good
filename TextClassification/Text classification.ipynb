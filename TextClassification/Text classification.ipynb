{
 "cells": [
  {
   "cell_type": "code",
   "execution_count": 1,
   "metadata": {},
   "outputs": [],
   "source": [
    "# Task: Text Classification: classify the effect on members in 34 classes (No labels available)\n",
    "# \"Unsupervised classification\" using informative text class labels as class prototypes in a bilingual vector space\n",
    "# AI4Good Hackathon\n",
    "# Alex Merritt\n",
    "# Borrows from: https://github.com/JairParra/NLPChallengeAI4Good/blob/master/tools/spaCy_tools%20_Jair_Copy.ipynb\n",
    "# Requires: https://github.com/Babylonpartners/fastText_multilingual\n",
    "# and https://fasttext.cc/docs/en/crawl-vectors.html\n",
    "# and https://pypi.org/project/langdetect/\n"
   ]
  },
  {
   "cell_type": "code",
   "execution_count": 28,
   "metadata": {},
   "outputs": [],
   "source": [
    "from fasttext import FastVector\n",
    "from langdetect import detect\n",
    "import spacy \n",
    "import numpy as np\n",
    "import pandas as pd\n",
    "from nltk.corpus import stopwords"
   ]
  },
  {
   "cell_type": "code",
   "execution_count": 29,
   "metadata": {},
   "outputs": [
    {
     "name": "stdout",
     "output_type": "stream",
     "text": [
      "reading word vectors from cc.fr.300.vec\n"
     ]
    }
   ],
   "source": [
    "french_stopwords = stopwords.words('french')\n",
    "\n",
    "nlp = spacy.load(\"fr_core_news_md\")\n",
    "\n",
    "fr_dictionary = FastVector(vector_file='cc.fr.300.vec')\n",
    "\n",
    "fr_dictionary.apply_transform('alignment_matrices/fr.txt')"
   ]
  },
  {
   "cell_type": "code",
   "execution_count": 2,
   "metadata": {},
   "outputs": [
    {
     "name": "stdout",
     "output_type": "stream",
     "text": [
      "reading word vectors from cc.en.300.vec\n"
     ]
    },
    {
     "ename": "KeyboardInterrupt",
     "evalue": "",
     "output_type": "error",
     "traceback": [
      "\u001b[0;31m---------------------------------------------------------------------------\u001b[0m",
      "\u001b[0;31mKeyboardInterrupt\u001b[0m                         Traceback (most recent call last)",
      "\u001b[0;32m<ipython-input-2-2efde6ab1002>\u001b[0m in \u001b[0;36m<module>\u001b[0;34m\u001b[0m\n\u001b[1;32m      1\u001b[0m \u001b[0men_dictionary\u001b[0m \u001b[0;34m=\u001b[0m \u001b[0mFastVector\u001b[0m\u001b[0;34m(\u001b[0m\u001b[0mvector_file\u001b[0m\u001b[0;34m=\u001b[0m\u001b[0;34m'cc.en.300.vec'\u001b[0m\u001b[0;34m)\u001b[0m\u001b[0;34m\u001b[0m\u001b[0;34m\u001b[0m\u001b[0m\n\u001b[0;32m----> 2\u001b[0;31m \u001b[0men_dictionary\u001b[0m\u001b[0;34m.\u001b[0m\u001b[0mapply_transform\u001b[0m\u001b[0;34m(\u001b[0m\u001b[0;34m'alignment_matrices/en.txt'\u001b[0m\u001b[0;34m)\u001b[0m\u001b[0;34m\u001b[0m\u001b[0;34m\u001b[0m\u001b[0m\n\u001b[0m",
      "\u001b[0;32m~/dev/NLPChallengeAI4Good/TextClassification/fasttext.py\u001b[0m in \u001b[0;36mapply_transform\u001b[0;34m(self, transform)\u001b[0m\n\u001b[1;32m     60\u001b[0m         \"\"\"\n\u001b[1;32m     61\u001b[0m         \u001b[0mtransmat\u001b[0m \u001b[0;34m=\u001b[0m \u001b[0mnp\u001b[0m\u001b[0;34m.\u001b[0m\u001b[0mloadtxt\u001b[0m\u001b[0;34m(\u001b[0m\u001b[0mtransform\u001b[0m\u001b[0;34m)\u001b[0m \u001b[0;32mif\u001b[0m \u001b[0misinstance\u001b[0m\u001b[0;34m(\u001b[0m\u001b[0mtransform\u001b[0m\u001b[0;34m,\u001b[0m \u001b[0mstr\u001b[0m\u001b[0;34m)\u001b[0m \u001b[0;32melse\u001b[0m \u001b[0mtransform\u001b[0m\u001b[0;34m\u001b[0m\u001b[0;34m\u001b[0m\u001b[0m\n\u001b[0;32m---> 62\u001b[0;31m         \u001b[0mself\u001b[0m\u001b[0;34m.\u001b[0m\u001b[0membed\u001b[0m \u001b[0;34m=\u001b[0m \u001b[0mnp\u001b[0m\u001b[0;34m.\u001b[0m\u001b[0mmatmul\u001b[0m\u001b[0;34m(\u001b[0m\u001b[0mself\u001b[0m\u001b[0;34m.\u001b[0m\u001b[0membed\u001b[0m\u001b[0;34m,\u001b[0m \u001b[0mtransmat\u001b[0m\u001b[0;34m)\u001b[0m\u001b[0;34m\u001b[0m\u001b[0;34m\u001b[0m\u001b[0m\n\u001b[0m\u001b[1;32m     63\u001b[0m \u001b[0;34m\u001b[0m\u001b[0m\n\u001b[1;32m     64\u001b[0m     \u001b[0;32mdef\u001b[0m \u001b[0mexport\u001b[0m\u001b[0;34m(\u001b[0m\u001b[0mself\u001b[0m\u001b[0;34m,\u001b[0m \u001b[0moutpath\u001b[0m\u001b[0;34m)\u001b[0m\u001b[0;34m:\u001b[0m\u001b[0;34m\u001b[0m\u001b[0;34m\u001b[0m\u001b[0m\n",
      "\u001b[0;31mKeyboardInterrupt\u001b[0m: "
     ]
    }
   ],
   "source": [
    "en_dictionary = FastVector(vector_file='cc.en.300.vec')\n",
    "en_dictionary.apply_transform('alignment_matrices/en.txt')"
   ]
  },
  {
   "cell_type": "code",
   "execution_count": 30,
   "metadata": {},
   "outputs": [
    {
     "name": "stdout",
     "output_type": "stream",
     "text": [
      "['Autonomie', \"Bris de l'isolement\", 'Communication', 'Compétences', 'Confiance en soi', 'Connaissance de soi', 'Connaissances', 'Conscientisation / Esprit critique', \"Développement (de l'enfant)\", 'Développement de pratiques démocratiques', 'Empowerment collectif', 'Empowerment individuel', 'Estime de soi', 'Habiletés cognitives', 'Habiletés dans la vie quotidienne', 'Habiletés sociales', 'Habitudes de vie', 'Identification des besoins', 'Intégration sociale', 'Lien de confiance', 'Liens familiaux', 'Mixité sociale et culturelle', 'Participation citoyenne', 'Plaisir', 'Prise de parole', 'Réciprocité', 'Répit', \"Réseau d'entraide\", 'Résultats scolaires', 'Sécurité', \"Sentiment d'appartenance\", 'Sentiment de valorisation', 'Socialisation', 'Soutien']\n"
     ]
    }
   ],
   "source": [
    "df = pd.read_excel(open('Baseresultats.xlsx', 'rb'),\n",
    "              sheet_name='Sheet1', header=None)\n",
    "indicators = df[0].tolist()\n",
    "indicators = [x.strip() for x in indicators]\n",
    "\n",
    "print(indicators)"
   ]
  },
  {
   "cell_type": "code",
   "execution_count": 31,
   "metadata": {},
   "outputs": [],
   "source": [
    "def similarity(v1, v2):\n",
    "    n1 = np.linalg.norm(v1)\n",
    "    n2 = np.linalg.norm(v2)\n",
    "    return np.dot(v1, v2) / n1 / n2"
   ]
  },
  {
   "cell_type": "code",
   "execution_count": 32,
   "metadata": {},
   "outputs": [],
   "source": [
    "def vectorByLanguage(word, lang):\n",
    "\n",
    "    try:\n",
    "        if(lang == 'en'):\n",
    "            return en_dictionary[word]\n",
    "        elif(lang == 'fr'):\n",
    "            return fr_dictionary[word]\n",
    "        else:\n",
    "            print(\"Found a non-English, non-French doc. Language detected : \" + lang)\n",
    "    except:\n",
    "        return np.zeros(300)\n",
    "\n",
    "def docIndicatorSimilarity(indicator, row, doc_lang): \n",
    "    tags = [\"DET\",\"ADP\",\"PUNCT\",\"CONJ\",\"CCONJ\",\"NUM\",\"SYM\",\"SPACE\"]\n",
    "    indicator_words = indicator.split(' ')\n",
    "    indicator_word_vecs = [vectorByLanguage(word, 'fr') for word in indicator_words]\n",
    "    indicator_avg_vec = np.mean(indicator_word_vecs, axis=0)\n",
    "\n",
    "    doc = str(row['RESULTATS_2018'])\n",
    "    \n",
    "    \n",
    "    sent_toks = [sent for sent in nlp(doc).sents]\n",
    "\n",
    "    flt_sent_toks = [[token for token in toks if token.pos_ not in tags and token.text.isalpha()\n",
    "                     and token.text not in french_stopwords] for toks in sent_toks]\n",
    "    \n",
    "    flat_flt_sent_toks = [item.text for sublist in flt_sent_toks for item in sublist]\n",
    "    doc_words = doc.split(' ')\n",
    "\n",
    "    doc_word_vecs = [vectorByLanguage(word, doc_lang) for word in flat_flt_sent_toks]\n",
    "    doc_avg_vec = np.mean(doc_word_vecs, axis=0)\n",
    "    return similarity(indicator_avg_vec, doc_avg_vec)"
   ]
  },
  {
   "cell_type": "code",
   "execution_count": 35,
   "metadata": {},
   "outputs": [
    {
     "name": "stdout",
     "output_type": "stream",
     "text": [
      "ID: 7848 ['Développement de pratiques démocratiques', 'Mixité sociale et culturelle', 'Intégration sociale', 'Habiletés dans la vie quotidienne', 'Identification des besoins']\n",
      "ID: 193624 ['Connaissance de soi', 'Mixité sociale et culturelle', 'Habitudes de vie', 'Habiletés dans la vie quotidienne', 'Identification des besoins']\n",
      "ID: 163221 ['Habitudes de vie', 'Estime de soi', 'Identification des besoins', 'Connaissance de soi', 'Habiletés dans la vie quotidienne']\n",
      "ID: 139813 ['Habiletés dans la vie quotidienne', 'Intégration sociale', 'Habiletés cognitives', 'Habiletés sociales', 'Identification des besoins']\n",
      "ID: 118-09 ['Connaissance de soi', 'Intégration sociale', 'Habitudes de vie', 'Identification des besoins', 'Habiletés dans la vie quotidienne']\n",
      "ID: 9222 ['Habitudes de vie', 'Mixité sociale et culturelle', 'Habiletés dans la vie quotidienne', 'Résultats scolaires', 'Identification des besoins']\n",
      "ID: 103 ['Estime de soi', 'Habitudes de vie', 'Connaissance de soi', 'Habiletés dans la vie quotidienne', 'Identification des besoins']\n",
      "ID: 7895 ['Habitudes de vie', 'Connaissance de soi', 'Mixité sociale et culturelle', 'Habiletés dans la vie quotidienne', 'Identification des besoins']\n",
      "ID: 7889 ['Estime de soi', 'Habitudes de vie', 'Connaissance de soi', 'Habiletés dans la vie quotidienne', 'Identification des besoins']\n",
      "ID: 167196 ['Résultats scolaires', 'Habitudes de vie', 'Connaissance de soi', 'Habiletés dans la vie quotidienne', 'Identification des besoins']\n",
      "ID: 7907 ['Résultats scolaires', 'Connaissance de soi', 'Habitudes de vie', 'Habiletés dans la vie quotidienne', 'Identification des besoins']\n",
      "ID: 6611 ['Développement de pratiques démocratiques', 'Habitudes de vie', 'Connaissance de soi', 'Habiletés dans la vie quotidienne', 'Identification des besoins']\n"
     ]
    },
    {
     "name": "stderr",
     "output_type": "stream",
     "text": [
      "/usr/local/lib/python3.7/dist-packages/ipykernel_launcher.py:4: RuntimeWarning: invalid value encountered in double_scalars\n",
      "  after removing the cwd from sys.path.\n"
     ]
    },
    {
     "name": "stdout",
     "output_type": "stream",
     "text": [
      "ID: 7930 ['Estime de soi', 'Habiletés cognitives', 'Habiletés dans la vie quotidienne', \"Développement (de l'enfant)\", 'Soutien']\n",
      "ID: 7810 ['Habitudes de vie', 'Mixité sociale et culturelle', 'Habiletés dans la vie quotidienne', 'Intégration sociale', 'Identification des besoins']\n",
      "ID: 8993 ['Connaissance de soi', 'Habitudes de vie', 'Mixité sociale et culturelle', 'Habiletés dans la vie quotidienne', 'Identification des besoins']\n",
      "ID: 7874 ['Habitudes de vie', 'Confiance en soi', 'Connaissance de soi', 'Habiletés dans la vie quotidienne', 'Identification des besoins']\n",
      "ID: 6608 ['Lien de confiance', 'Mixité sociale et culturelle', 'Connaissance de soi', 'Habiletés dans la vie quotidienne', 'Identification des besoins']\n",
      "ID: 135613 ['Habitudes de vie', 'Estime de soi', 'Identification des besoins', 'Connaissance de soi', 'Habiletés dans la vie quotidienne']\n",
      "ID: 9532 ['Mixité sociale et culturelle', 'Connaissance de soi', 'Habitudes de vie', 'Habiletés dans la vie quotidienne', 'Identification des besoins']\n",
      "ID: 136483 ['Connaissance de soi', 'Développement de pratiques démocratiques', 'Habitudes de vie', 'Habiletés dans la vie quotidienne', 'Identification des besoins']\n",
      "ID: 674 ['Estime de soi', 'Habitudes de vie', 'Connaissance de soi', 'Habiletés dans la vie quotidienne', 'Identification des besoins']\n",
      "ID: 7133 ['Mixité sociale et culturelle', 'Connaissance de soi', 'Identification des besoins', 'Habitudes de vie', 'Habiletés dans la vie quotidienne']\n",
      "ID: 175493 ['Prise de parole', 'Estime de soi', 'Lien de confiance', 'Connaissance de soi', 'Sentiment de valorisation']\n",
      "ID: 7864 ['Habiletés dans la vie quotidienne', 'Identification des besoins', 'Connaissance de soi', 'Estime de soi', 'Confiance en soi']\n",
      "ID: 245189 ['Estime de soi', 'Habitudes de vie', 'Connaissance de soi', 'Habiletés dans la vie quotidienne', 'Identification des besoins']\n",
      "ID: 7903 ['Habitudes de vie', 'Mixité sociale et culturelle', 'Connaissance de soi', 'Habiletés dans la vie quotidienne', 'Identification des besoins']\n",
      "ID: 148196 ['Prise de parole', 'Habitudes de vie', 'Lien de confiance', 'Habiletés dans la vie quotidienne', 'Identification des besoins']\n",
      "ID: 378495 ['Habitudes de vie', 'Mixité sociale et culturelle', 'Connaissance de soi', 'Habiletés dans la vie quotidienne', 'Identification des besoins']\n",
      "ID: 7855 ['Connaissance de soi', 'Habitudes de vie', 'Résultats scolaires', 'Habiletés dans la vie quotidienne', 'Identification des besoins']\n",
      "ID: 163006 ['Connaissance de soi', 'Résultats scolaires', 'Habitudes de vie', 'Habiletés dans la vie quotidienne', 'Identification des besoins']\n",
      "ID: 6607 ['Habitudes de vie', 'Mixité sociale et culturelle', 'Connaissance de soi', 'Habiletés dans la vie quotidienne', 'Identification des besoins']\n",
      "ID: 5142 ['Habitudes de vie', 'Connaissance de soi', 'Confiance en soi', 'Habiletés dans la vie quotidienne', 'Identification des besoins']\n",
      "ID: 140731 ['Résultats scolaires', 'Connaissance de soi', 'Habitudes de vie', 'Habiletés dans la vie quotidienne', 'Identification des besoins']\n",
      "ID: 182208 ['Confiance en soi', 'Habitudes de vie', 'Connaissance de soi', 'Habiletés dans la vie quotidienne', 'Identification des besoins']\n",
      "ID: 7322-06 ['Estime de soi', 'Habiletés cognitives', 'Habiletés dans la vie quotidienne', \"Développement (de l'enfant)\", 'Soutien']\n",
      "ID: 267788 ['Résultats scolaires', 'Intégration sociale', 'Mixité sociale et culturelle', 'Habiletés dans la vie quotidienne', 'Identification des besoins']\n",
      "ID: 3032 ['Intégration sociale', 'Habitudes de vie', 'Connaissance de soi', 'Habiletés dans la vie quotidienne', 'Identification des besoins']\n",
      "ID: 7871 ['Estime de soi', 'Habiletés cognitives', 'Habiletés dans la vie quotidienne', \"Développement (de l'enfant)\", 'Soutien']\n",
      "ID: 118-05 ['Estime de soi', 'Habiletés cognitives', 'Habiletés dans la vie quotidienne', \"Développement (de l'enfant)\", 'Soutien']\n",
      "ID: 135618 ['Habiletés dans la vie quotidienne', 'Estime de soi', 'Mixité sociale et culturelle', 'Connaissance de soi', 'Identification des besoins']\n",
      "ID: 7837 ['Connaissance de soi', 'Intégration sociale', 'Habitudes de vie', 'Identification des besoins', 'Habiletés dans la vie quotidienne']\n",
      "ID: 7916 ['Résultats scolaires', 'Connaissance de soi', 'Habitudes de vie', 'Habiletés dans la vie quotidienne', 'Identification des besoins']\n",
      "ID: 2588 ['Estime de soi', 'Habitudes de vie', 'Connaissance de soi', 'Habiletés dans la vie quotidienne', 'Identification des besoins']\n",
      "ID: 7838 ['Estime de soi', 'Habitudes de vie', 'Habiletés dans la vie quotidienne', 'Connaissance de soi', 'Identification des besoins']\n",
      "ID: 2589 ['Estime de soi', 'Habitudes de vie', 'Habiletés dans la vie quotidienne', 'Connaissance de soi', 'Identification des besoins']\n",
      "ID: 118-06 ['Confiance en soi', 'Estime de soi', 'Habiletés dans la vie quotidienne', 'Connaissance de soi', 'Identification des besoins']\n",
      "ID: 8230 ['Estime de soi', 'Habiletés cognitives', 'Habiletés dans la vie quotidienne', \"Développement (de l'enfant)\", 'Soutien']\n",
      "ID: 7885 ['Estime de soi', 'Habitudes de vie', 'Connaissance de soi', 'Habiletés dans la vie quotidienne', 'Identification des besoins']\n",
      "ID: 1015 ['Connaissance de soi', 'Habitudes de vie', 'Mixité sociale et culturelle', 'Habiletés dans la vie quotidienne', 'Identification des besoins']\n",
      "ID: 159740 ['Estime de soi', 'Connaissance de soi', 'Habitudes de vie', 'Habiletés dans la vie quotidienne', 'Identification des besoins']\n",
      "ID: 142125 ['Confiance en soi', 'Estime de soi', 'Connaissance de soi', 'Habiletés dans la vie quotidienne', 'Identification des besoins']\n",
      "ID: 164011 ['Mixité sociale et culturelle', 'Habiletés sociales', 'Habiletés dans la vie quotidienne', 'Intégration sociale', 'Identification des besoins']\n",
      "ID: 7818 ['Habitudes de vie', 'Estime de soi', 'Habiletés dans la vie quotidienne', 'Connaissance de soi', 'Identification des besoins']\n",
      "ID: 144698 ['Estime de soi', 'Habitudes de vie', 'Connaissance de soi', 'Habiletés dans la vie quotidienne', 'Identification des besoins']\n",
      "ID: 310845 ['Connaissance de soi', 'Développement de pratiques démocratiques', 'Habiletés dans la vie quotidienne', 'Habitudes de vie', 'Identification des besoins']\n",
      "ID: 6603 ['Mixité sociale et culturelle', 'Connaissance de soi', 'Habitudes de vie', 'Habiletés dans la vie quotidienne', 'Identification des besoins']\n",
      "ID: 255384 ['Connaissance de soi', 'Résultats scolaires', 'Habitudes de vie', 'Habiletés dans la vie quotidienne', 'Identification des besoins']\n",
      "ID: 7894-01 ['Estime de soi', 'Connaissance de soi', 'Habitudes de vie', 'Identification des besoins', 'Habiletés dans la vie quotidienne']\n",
      "ID: 7831 ['Connaissance de soi', 'Mixité sociale et culturelle', 'Habitudes de vie', 'Habiletés dans la vie quotidienne', 'Identification des besoins']\n",
      "ID: 135303 ['Habitudes de vie', 'Habiletés dans la vie quotidienne', 'Développement de pratiques démocratiques', 'Connaissance de soi', 'Identification des besoins']\n",
      "ID: 8995 ['Estime de soi', 'Habitudes de vie', 'Connaissance de soi', 'Habiletés dans la vie quotidienne', 'Identification des besoins']\n",
      "ID: 7934 ['Estime de soi', 'Habitudes de vie', 'Connaissance de soi', 'Habiletés dans la vie quotidienne', 'Identification des besoins']\n",
      "ID: 1951 ['Habiletés dans la vie quotidienne', 'Développement de pratiques démocratiques', 'Habitudes de vie', 'Connaissance de soi', 'Identification des besoins']\n",
      "ID: 1952 ['Mixité sociale et culturelle', 'Connaissance de soi', 'Habitudes de vie', 'Habiletés dans la vie quotidienne', 'Identification des besoins']\n",
      "ID: 244982 ['Estime de soi', 'Habitudes de vie', 'Connaissance de soi', 'Habiletés dans la vie quotidienne', 'Identification des besoins']\n",
      "ID: 135305 ['Développement de pratiques démocratiques', 'Habitudes de vie', 'Habiletés dans la vie quotidienne', 'Mixité sociale et culturelle', 'Identification des besoins']\n",
      "ID: 3025 ['Confiance en soi', 'Habitudes de vie', 'Connaissance de soi', 'Habiletés dans la vie quotidienne', 'Identification des besoins']\n",
      "ID: 7856 ['Confiance en soi', 'Habitudes de vie', 'Mixité sociale et culturelle', 'Habiletés dans la vie quotidienne', 'Identification des besoins']\n",
      "ID: 145120 ['Mixité sociale et culturelle', 'Connaissance de soi', 'Habitudes de vie', 'Habiletés dans la vie quotidienne', 'Identification des besoins']\n"
     ]
    },
    {
     "name": "stdout",
     "output_type": "stream",
     "text": [
      "ID: 6612 ['Confiance en soi', 'Estime de soi', 'Connaissance de soi', 'Habiletés dans la vie quotidienne', 'Identification des besoins']\n",
      "ID: 138506 ['Résultats scolaires', 'Connaissance de soi', 'Habiletés dans la vie quotidienne', 'Habitudes de vie', 'Identification des besoins']\n",
      "ID: 4213 ['Confiance en soi', 'Connaissance de soi', 'Habitudes de vie', 'Habiletés dans la vie quotidienne', 'Identification des besoins']\n",
      "ID: 328045 ['Estime de soi', 'Habiletés dans la vie quotidienne', 'Mixité sociale et culturelle', 'Habitudes de vie', 'Connaissance de soi']\n",
      "ID: 1012 ['Mixité sociale et culturelle', 'Habitudes de vie', 'Connaissance de soi', 'Habiletés dans la vie quotidienne', 'Identification des besoins']\n",
      "ID: 1013 ['Habitudes de vie', 'Mixité sociale et culturelle', 'Habiletés dans la vie quotidienne', 'Identification des besoins', 'Intégration sociale']\n",
      "ID: 273241 ['Mixité sociale et culturelle', 'Habiletés dans la vie quotidienne', 'Intégration sociale', 'Habiletés sociales', 'Identification des besoins']\n",
      "ID: 7935 ['Estime de soi', 'Résultats scolaires', 'Habiletés dans la vie quotidienne', 'Connaissance de soi', 'Identification des besoins']\n",
      "ID: 9002 ['Développement de pratiques démocratiques', 'Connaissance de soi', 'Habitudes de vie', 'Habiletés dans la vie quotidienne', 'Identification des besoins']\n",
      "ID: 138531 ['Habiletés dans la vie quotidienne', 'Habitudes de vie', 'Identification des besoins', 'Estime de soi', 'Connaissance de soi']\n",
      "ID: 118-04 ['Mixité sociale et culturelle', 'Connaissance de soi', 'Habitudes de vie', 'Habiletés dans la vie quotidienne', 'Identification des besoins']\n",
      "ID: 1014 ['Développement de pratiques démocratiques', 'Identification des besoins', 'Habitudes de vie', 'Estime de soi', 'Connaissance de soi']\n",
      "ID: 7880 ['Estime de soi', 'Habiletés cognitives', 'Habiletés dans la vie quotidienne', \"Développement (de l'enfant)\", 'Soutien']\n",
      "ID: 225387 ['Mixité sociale et culturelle', 'Liens familiaux', 'Intégration sociale', 'Résultats scolaires', 'Identification des besoins']\n",
      "ID: 8998 ['Connaissance de soi', 'Mixité sociale et culturelle', 'Habitudes de vie', 'Habiletés dans la vie quotidienne', 'Identification des besoins']\n",
      "ID: 7875 ['Connaissance de soi', 'Habitudes de vie', 'Mixité sociale et culturelle', 'Habiletés dans la vie quotidienne', 'Identification des besoins']\n",
      "ID: 163225 ['Mixité sociale et culturelle', 'Habitudes de vie', 'Connaissance de soi', 'Habiletés dans la vie quotidienne', 'Identification des besoins']\n",
      "ID: 167455 ['Estime de soi', 'Habiletés cognitives', 'Habiletés dans la vie quotidienne', \"Développement (de l'enfant)\", 'Soutien']\n",
      "ID: 746 ['Estime de soi', 'Connaissance de soi', 'Habitudes de vie', 'Habiletés dans la vie quotidienne', 'Identification des besoins']\n",
      "ID: 7852 ['Estime de soi', 'Habiletés cognitives', 'Habiletés dans la vie quotidienne', \"Développement (de l'enfant)\", 'Soutien']\n",
      "ID: 175256 ['Estime de soi', 'Habiletés cognitives', 'Habiletés dans la vie quotidienne', \"Développement (de l'enfant)\", 'Soutien']\n",
      "ID: 118-08 ['Habitudes de vie', 'Habiletés dans la vie quotidienne', 'Estime de soi', 'Connaissance de soi', 'Identification des besoins']\n",
      "ID: 135611 ['Confiance en soi', 'Habitudes de vie', 'Connaissance de soi', 'Habiletés dans la vie quotidienne', 'Identification des besoins']\n",
      "ID: 146173 ['Prise de parole', 'Connaissance de soi', 'Habitudes de vie', 'Habiletés dans la vie quotidienne', 'Identification des besoins']\n",
      "ID: 3034 ['Résultats scolaires', 'Confiance en soi', 'Connaissance de soi', 'Habiletés dans la vie quotidienne', 'Identification des besoins']\n",
      "ID: 7893 ['Habitudes de vie', 'Estime de soi', 'Connaissance de soi', 'Habiletés dans la vie quotidienne', 'Identification des besoins']\n",
      "ID: 7913 ['Connaissance de soi', 'Mixité sociale et culturelle', 'Habitudes de vie', 'Habiletés dans la vie quotidienne', 'Identification des besoins']\n",
      "ID: 7860 ['Habitudes de vie', 'Mixité sociale et culturelle', 'Connaissance de soi', 'Habiletés dans la vie quotidienne', 'Identification des besoins']\n",
      "ID: 3024 ['Mixité sociale et culturelle', 'Connaissance de soi', 'Habitudes de vie', 'Habiletés dans la vie quotidienne', 'Identification des besoins']\n",
      "ID: 7817 ['Connaissance de soi', 'Confiance en soi', 'Habitudes de vie', 'Habiletés dans la vie quotidienne', 'Identification des besoins']\n",
      "ID: 8990 ['Liens familiaux', 'Habitudes de vie', 'Connaissance de soi', 'Habiletés dans la vie quotidienne', 'Identification des besoins']\n",
      "ID: 7468 ['Habitudes de vie', 'Mixité sociale et culturelle', 'Connaissance de soi', 'Habiletés dans la vie quotidienne', 'Identification des besoins']\n",
      "ID: 7877 ['Habitudes de vie', 'Mixité sociale et culturelle', 'Habiletés dans la vie quotidienne', 'Intégration sociale', 'Identification des besoins']\n",
      "ID: 141788 ['Habitudes de vie', 'Estime de soi', 'Habiletés dans la vie quotidienne', 'Connaissance de soi', 'Identification des besoins']\n",
      "ID: 229866 ['Estime de soi', 'Habitudes de vie', 'Habiletés dans la vie quotidienne', 'Connaissance de soi', 'Identification des besoins']\n",
      "ID: 140036 ['Habiletés dans la vie quotidienne', 'Identification des besoins', 'Confiance en soi', 'Estime de soi', 'Connaissance de soi']\n",
      "ID: 135612 ['Connaissance de soi', 'Habitudes de vie', 'Confiance en soi', 'Habiletés dans la vie quotidienne', 'Identification des besoins']\n",
      "ID: 135609 ['Estime de soi', 'Mixité sociale et culturelle', 'Habiletés dans la vie quotidienne', 'Connaissance de soi', 'Identification des besoins']\n",
      "ID: 3031 ['Identification des besoins', 'Connaissance de soi', 'Estime de soi', 'Habitudes de vie', 'Habiletés dans la vie quotidienne']\n",
      "ID: 7904 ['Mixité sociale et culturelle', 'Connaissance de soi', 'Habitudes de vie', 'Habiletés dans la vie quotidienne', 'Identification des besoins']\n",
      "ID: 261489 ['Estime de soi', 'Connaissance de soi', 'Habitudes de vie', 'Habiletés dans la vie quotidienne', 'Identification des besoins']\n",
      "ID: 715-04 ['Connaissance de soi', 'Habitudes de vie', 'Résultats scolaires', 'Habiletés dans la vie quotidienne', 'Identification des besoins']\n",
      "ID: 6606 ['Habitudes de vie', 'Estime de soi', 'Habiletés dans la vie quotidienne', 'Connaissance de soi', 'Identification des besoins']\n",
      "ID: 8231 ['Estime de soi', 'Habiletés cognitives', 'Habiletés dans la vie quotidienne', \"Développement (de l'enfant)\", 'Soutien']\n",
      "ID: 4211 ['Confiance en soi', 'Estime de soi', 'Identification des besoins', 'Connaissance de soi', 'Habiletés dans la vie quotidienne']\n",
      "ID: 6614 ['Mixité sociale et culturelle', 'Connaissance de soi', 'Habitudes de vie', 'Habiletés dans la vie quotidienne', 'Identification des besoins']\n",
      "ID: 3030 ['Estime de soi', 'Habitudes de vie', 'Habiletés dans la vie quotidienne', 'Connaissance de soi', 'Identification des besoins']\n",
      "ID: 9422 ['Mixité sociale et culturelle', 'Habitudes de vie', 'Connaissance de soi', 'Habiletés dans la vie quotidienne', 'Identification des besoins']\n",
      "ID: 4417 ['Connaissance de soi', 'Habiletés sociales', 'Habiletés dans la vie quotidienne', 'Résultats scolaires', 'Identification des besoins']\n",
      "ID: 8992 ['Mixité sociale et culturelle', 'Connaissance de soi', 'Habitudes de vie', 'Habiletés dans la vie quotidienne', 'Identification des besoins']\n",
      "ID: 7499 ['Habitudes de vie', 'Estime de soi', 'Habiletés dans la vie quotidienne', 'Connaissance de soi', 'Identification des besoins']\n",
      "ID: 7854 ['Estime de soi', 'Habitudes de vie', 'Connaissance de soi', 'Identification des besoins', 'Habiletés dans la vie quotidienne']\n",
      "ID: 305003 ['Connaissance de soi', 'Habitudes de vie', 'Habiletés dans la vie quotidienne', 'Résultats scolaires', 'Identification des besoins']\n",
      "ID: 7908 ['Estime de soi', 'Habiletés cognitives', 'Habiletés dans la vie quotidienne', \"Développement (de l'enfant)\", 'Soutien']\n",
      "ID: 8991 ['Confiance en soi', 'Habitudes de vie', 'Connaissance de soi', 'Habiletés dans la vie quotidienne', 'Identification des besoins']\n",
      "ID: 162194 ['Estime de soi', 'Habitudes de vie', 'Connaissance de soi', 'Habiletés dans la vie quotidienne', 'Identification des besoins']\n",
      "ID: 7825 ['Résultats scolaires', 'Habitudes de vie', 'Intégration sociale', 'Habiletés dans la vie quotidienne', 'Identification des besoins']\n",
      "ID: 193490 ['Intégration sociale', 'Habitudes de vie', 'Mixité sociale et culturelle', 'Habiletés dans la vie quotidienne', 'Identification des besoins']\n"
     ]
    },
    {
     "name": "stdout",
     "output_type": "stream",
     "text": [
      "ID: 8654 ['Estime de soi', 'Habitudes de vie', 'Connaissance de soi', 'Habiletés dans la vie quotidienne', 'Identification des besoins']\n",
      "ID: 7878 ['Habitudes de vie', 'Confiance en soi', 'Mixité sociale et culturelle', 'Habiletés dans la vie quotidienne', 'Identification des besoins']\n",
      "ID: 3147 ['Habiletés dans la vie quotidienne', 'Habitudes de vie', 'Estime de soi', 'Connaissance de soi', 'Identification des besoins']\n",
      "ID: 118 ['Estime de soi', 'Habitudes de vie', 'Connaissance de soi', 'Habiletés dans la vie quotidienne', 'Identification des besoins']\n",
      "ID: 164826 ['Résultats scolaires', 'Confiance en soi', 'Connaissance de soi', 'Habiletés dans la vie quotidienne', 'Identification des besoins']\n",
      "ID: 7826 ['Connaissance de soi', 'Habitudes de vie', 'Résultats scolaires', 'Habiletés dans la vie quotidienne', 'Identification des besoins']\n",
      "ID: 135633 ['Habitudes de vie', 'Connaissance de soi', 'Mixité sociale et culturelle', 'Habiletés dans la vie quotidienne', 'Identification des besoins']\n",
      "ID: 193575 ['Mixité sociale et culturelle', 'Habiletés dans la vie quotidienne', 'Intégration sociale', 'Résultats scolaires', 'Identification des besoins']\n",
      "ID: 7853 ['Habiletés sociales', 'Habitudes de vie', 'Connaissance de soi', 'Habiletés dans la vie quotidienne', 'Identification des besoins']\n",
      "ID: 7884 ['Connaissance de soi', 'Habitudes de vie', 'Résultats scolaires', 'Habiletés dans la vie quotidienne', 'Identification des besoins']\n",
      "ID: 187409 ['Connaissance de soi', 'Identification des besoins', 'Habitudes de vie', 'Confiance en soi', 'Habiletés dans la vie quotidienne']\n",
      "ID: 481 ['Habitudes de vie', 'Estime de soi', 'Habiletés dans la vie quotidienne', 'Connaissance de soi', 'Identification des besoins']\n",
      "ID: 174157 ['Estime de soi', 'Habiletés cognitives', 'Habiletés dans la vie quotidienne', \"Développement (de l'enfant)\", 'Soutien']\n",
      "ID: 118-01 ['Habitudes de vie', 'Estime de soi', 'Connaissance de soi', 'Habiletés dans la vie quotidienne', 'Identification des besoins']\n",
      "ID: 7823 ['Habiletés dans la vie quotidienne', 'Identification des besoins', 'Confiance en soi', 'Estime de soi', 'Connaissance de soi']\n",
      "ID: 7013 ['Développement de pratiques démocratiques', 'Connaissance de soi', 'Habitudes de vie', 'Habiletés dans la vie quotidienne', 'Identification des besoins']\n",
      "ID: 8999 ['Estime de soi', 'Habiletés dans la vie quotidienne', 'Intégration sociale', 'Connaissance de soi', 'Identification des besoins']\n",
      "ID: 7891 ['Mixité sociale et culturelle', 'Connaissance de soi', 'Habitudes de vie', 'Habiletés dans la vie quotidienne', 'Identification des besoins']\n",
      "ID: 5056 ['Estime de soi', 'Habitudes de vie', 'Connaissance de soi', 'Habiletés dans la vie quotidienne', 'Identification des besoins']\n",
      "ID: 7918 ['Confiance en soi', 'Estime de soi', 'Habiletés dans la vie quotidienne', 'Connaissance de soi', 'Identification des besoins']\n",
      "ID: 8756 ['Habiletés dans la vie quotidienne', 'Confiance en soi', 'Estime de soi', 'Connaissance de soi', 'Identification des besoins']\n",
      "ID: 5579 ['Connaissance de soi', 'Habitudes de vie', 'Mixité sociale et culturelle', 'Habiletés dans la vie quotidienne', 'Identification des besoins']\n",
      "ID: 5141 ['Mixité sociale et culturelle', 'Connaissance de soi', 'Habitudes de vie', 'Habiletés dans la vie quotidienne', 'Identification des besoins']\n",
      "ID: 275640 ['Mixité sociale et culturelle', 'Connaissance de soi', 'Habiletés dans la vie quotidienne', 'Habitudes de vie', 'Identification des besoins']\n",
      "ID: 6609 ['Lien de confiance', 'Connaissance de soi', 'Habitudes de vie', 'Habiletés dans la vie quotidienne', 'Identification des besoins']\n",
      "ID: 354043 ['Habitudes de vie', 'Habiletés dans la vie quotidienne', 'Connaissance de soi', 'Développement de pratiques démocratiques', 'Identification des besoins']\n",
      "ID: 468 ['Estime de soi', 'Connaissance de soi', 'Mixité sociale et culturelle', 'Habiletés dans la vie quotidienne', 'Identification des besoins']\n",
      "ID: 186575 ['Mixité sociale et culturelle', 'Connaissance de soi', 'Habitudes de vie', 'Habiletés dans la vie quotidienne', 'Identification des besoins']\n",
      "ID: 5143 ['Connaissance de soi', 'Habitudes de vie', 'Mixité sociale et culturelle', 'Habiletés dans la vie quotidienne', 'Identification des besoins']\n",
      "ID: 210003 ['Mixité sociale et culturelle', 'Habitudes de vie', 'Résultats scolaires', 'Habiletés dans la vie quotidienne', 'Identification des besoins']\n",
      "ID: 7085 ['Habitudes de vie', 'Estime de soi', 'Habiletés dans la vie quotidienne', 'Connaissance de soi', 'Identification des besoins']\n",
      "ID: 8779 ['Habitudes de vie', 'Résultats scolaires', 'Connaissance de soi', 'Habiletés dans la vie quotidienne', 'Identification des besoins']\n",
      "ID: 7322-09 ['Connaissance de soi', 'Mixité sociale et culturelle', 'Intégration sociale', 'Habiletés dans la vie quotidienne', 'Identification des besoins']\n",
      "ID: 1101 ['Estime de soi', 'Habitudes de vie', 'Connaissance de soi', 'Habiletés dans la vie quotidienne', 'Identification des besoins']\n",
      "ID: 278614 ['Estime de soi', 'Habiletés cognitives', 'Habiletés dans la vie quotidienne', \"Développement (de l'enfant)\", 'Soutien']\n",
      "ID: 7897 ['Mixité sociale et culturelle', 'Habitudes de vie', 'Connaissance de soi', 'Habiletés dans la vie quotidienne', 'Identification des besoins']\n",
      "ID: 7322-08 ['Estime de soi', 'Habiletés cognitives', 'Habiletés dans la vie quotidienne', \"Développement (de l'enfant)\", 'Soutien']\n",
      "ID: 7921 ['Confiance en soi', 'Connaissance de soi', 'Habitudes de vie', 'Habiletés dans la vie quotidienne', 'Identification des besoins']\n",
      "ID: 7533 ['Estime de soi', 'Habiletés cognitives', 'Habiletés dans la vie quotidienne', \"Développement (de l'enfant)\", 'Soutien']\n",
      "ID: 278611 ['Estime de soi', 'Habiletés cognitives', 'Habiletés dans la vie quotidienne', \"Développement (de l'enfant)\", 'Soutien']\n",
      "ID: 7842 ['Confiance en soi', 'Habitudes de vie', 'Connaissance de soi', 'Habiletés dans la vie quotidienne', 'Identification des besoins']\n",
      "ID: 135606 ['Estime de soi', 'Habitudes de vie', 'Connaissance de soi', 'Habiletés dans la vie quotidienne', 'Identification des besoins']\n",
      "ID: 228373 ['Connaissance de soi', 'Habitudes de vie', 'Résultats scolaires', 'Habiletés dans la vie quotidienne', 'Identification des besoins']\n",
      "ID: 7374 ['Habitudes de vie', 'Connaissance de soi', 'Résultats scolaires', 'Habiletés dans la vie quotidienne', 'Identification des besoins']\n",
      "ID: 245113 ['Habitudes de vie', 'Prise de parole', 'Résultats scolaires', 'Habiletés dans la vie quotidienne', 'Identification des besoins']\n",
      "ID: 3026 ['Habitudes de vie', 'Estime de soi', 'Habiletés dans la vie quotidienne', 'Connaissance de soi', 'Identification des besoins']\n",
      "ID: 262157 ['Connaissance de soi', 'Habitudes de vie', 'Habiletés dans la vie quotidienne', 'Résultats scolaires', 'Identification des besoins']\n",
      "ID: 140417 ['Connaissance de soi', 'Habitudes de vie', 'Mixité sociale et culturelle', 'Habiletés dans la vie quotidienne', 'Identification des besoins']\n",
      "ID: 342354 ['Connaissance de soi', 'Résultats scolaires', 'Habitudes de vie', 'Habiletés dans la vie quotidienne', 'Identification des besoins']\n",
      "ID: 145848 ['Confiance en soi', 'Habitudes de vie', 'Connaissance de soi', 'Habiletés dans la vie quotidienne', 'Identification des besoins']\n",
      "ID: 244823 ['Développement de pratiques démocratiques', 'Habitudes de vie', 'Habiletés dans la vie quotidienne', 'Connaissance de soi', 'Identification des besoins']\n",
      "ID: 162178 ['Mixité sociale et culturelle', 'Connaissance de soi', 'Habitudes de vie', 'Habiletés dans la vie quotidienne', 'Identification des besoins']\n",
      "ID: 3028 ['Habitudes de vie', 'Confiance en soi', 'Connaissance de soi', 'Habiletés dans la vie quotidienne', 'Identification des besoins']\n",
      "ID: 245009 ['Connaissance de soi', 'Mixité sociale et culturelle', 'Habitudes de vie', 'Habiletés dans la vie quotidienne', 'Identification des besoins']\n",
      "ID: 135636 ['Habitudes de vie', 'Mixité sociale et culturelle', 'Connaissance de soi', 'Habiletés dans la vie quotidienne', 'Identification des besoins']\n",
      "ID: 227914 ['Mixité sociale et culturelle', 'Connaissance de soi', 'Habitudes de vie', 'Habiletés dans la vie quotidienne', 'Identification des besoins']\n",
      "ID: 142362 ['Lien de confiance', 'Confiance en soi', 'Estime de soi', 'Connaissance de soi', 'Identification des besoins']\n"
     ]
    },
    {
     "name": "stdout",
     "output_type": "stream",
     "text": [
      "ID: 278352 ['Estime de soi', 'Mixité sociale et culturelle', 'Connaissance de soi', 'Habiletés dans la vie quotidienne', 'Identification des besoins']\n",
      "ID: 9588 ['Estime de soi', 'Habiletés cognitives', 'Habiletés dans la vie quotidienne', \"Développement (de l'enfant)\", 'Soutien']\n",
      "ID: 715-03 ['Estime de soi', 'Développement de pratiques démocratiques', 'Lien de confiance', 'Connaissance de soi', 'Identification des besoins']\n",
      "ID: 162996 ['Habiletés dans la vie quotidienne', 'Mixité sociale et culturelle', 'Connaissance de soi', 'Habitudes de vie', 'Identification des besoins']\n",
      "ID: 7830 ['Mixité sociale et culturelle', 'Estime de soi', 'Habitudes de vie', 'Connaissance de soi', 'Identification des besoins']\n",
      "ID: 141087 ['Habitudes de vie', 'Habiletés dans la vie quotidienne', 'Résultats scolaires', 'Liens familiaux', 'Identification des besoins']\n",
      "ID: 715-02 ['Habitudes de vie', 'Habiletés dans la vie quotidienne', 'Lien de confiance', 'Connaissance de soi', 'Identification des besoins']\n",
      "ID: 9000 ['Connaissance de soi', 'Développement de pratiques démocratiques', 'Habiletés dans la vie quotidienne', 'Habitudes de vie', 'Identification des besoins']\n",
      "ID: 820 ['Développement de pratiques démocratiques', 'Habitudes de vie', 'Connaissance de soi', 'Habiletés dans la vie quotidienne', 'Identification des besoins']\n",
      "ID: 4217 ['Mixité sociale et culturelle', 'Connaissance de soi', 'Habitudes de vie', 'Habiletés dans la vie quotidienne', 'Identification des besoins']\n",
      "ID: 187913 ['Estime de soi', 'Habitudes de vie', 'Habiletés dans la vie quotidienne', 'Connaissance de soi', 'Identification des besoins']\n",
      "ID: 423577 ['Lien de confiance', 'Prise de parole', 'Mixité sociale et culturelle', 'Développement de pratiques démocratiques', 'Identification des besoins']\n",
      "ID: 774 ['Connaissance de soi', 'Habitudes de vie', 'Résultats scolaires', 'Habiletés dans la vie quotidienne', 'Identification des besoins']\n",
      "ID: 7888 ['Confiance en soi', 'Connaissance de soi', 'Mixité sociale et culturelle', 'Habiletés dans la vie quotidienne', 'Identification des besoins']\n",
      "ID: 8229 ['Estime de soi', 'Habiletés cognitives', 'Habiletés dans la vie quotidienne', \"Développement (de l'enfant)\", 'Soutien']\n",
      "ID: 245221 ['Développement de pratiques démocratiques', 'Connaissance de soi', 'Habitudes de vie', 'Habiletés dans la vie quotidienne', 'Identification des besoins']\n",
      "ID: 135643 ['Estime de soi', 'Connaissance de soi', 'Habitudes de vie', 'Habiletés dans la vie quotidienne', 'Identification des besoins']\n"
     ]
    }
   ],
   "source": [
    "d = {}\n",
    "\n",
    "results_df = pd.read_excel(open('Baseresultats.xlsx', 'rb'), sheet_name='Liste brute')\n",
    "for index, row in results_df.iterrows():\n",
    "    doc_lang = detect(str(row['RESULTATS_2018']))\n",
    "    if ('Effet' in str(row['Type de résultat']) and (doc_lang == 'en' or doc_lang == 'fr')):\n",
    "            similarities = [docIndicatorSimilarity(indicator, row, doc_lang) for indicator in indicators]       \n",
    "            #print(similarities)\n",
    "            max_similarity = np.argmax(similarities)\n",
    "            max_similarities = np.argsort(similarities)[-5:]\n",
    "            #max_similarities = max_similarities.reverse()\n",
    "            \n",
    "            #print(max_similarities)\n",
    "            d[row['NO']] = [indicators[max_similarities[i]] for i in range(5)]\n",
    "            print(\"ID: \" + str(row['NO']) + \" \" + str(d[row['NO']]))\n"
   ]
  },
  {
   "cell_type": "code",
   "execution_count": null,
   "metadata": {},
   "outputs": [],
   "source": []
  },
  {
   "cell_type": "code",
   "execution_count": null,
   "metadata": {},
   "outputs": [],
   "source": []
  }
 ],
 "metadata": {
  "kernelspec": {
   "display_name": "Python 3",
   "language": "python",
   "name": "python3"
  },
  "language_info": {
   "codemirror_mode": {
    "name": "ipython",
    "version": 3
   },
   "file_extension": ".py",
   "mimetype": "text/x-python",
   "name": "python",
   "nbconvert_exporter": "python",
   "pygments_lexer": "ipython3",
   "version": "3.7.3"
  }
 },
 "nbformat": 4,
 "nbformat_minor": 2
}
