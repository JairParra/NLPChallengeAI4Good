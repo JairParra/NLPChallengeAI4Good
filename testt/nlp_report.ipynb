{
  "nbformat": 4,
  "nbformat_minor": 0,
  "metadata": {
    "colab": {
      "name": "nlp-report",
      "version": "0.3.2",
      "provenance": [],
      "include_colab_link": true
    },
    "kernelspec": {
      "name": "python3",
      "display_name": "Python 3"
    }
  },
  "cells": [
    {
      "cell_type": "markdown",
      "metadata": {
        "id": "view-in-github",
        "colab_type": "text"
      },
      "source": [
        "<a href=\"https://colab.research.google.com/github/JairParra/NLPChallengeAI4Good/blob/master/testt/nlp_report.ipynb\" target=\"_parent\"><img src=\"https://colab.research.google.com/assets/colab-badge.svg\" alt=\"Open In Colab\"/></a>"
      ]
    },
    {
      "cell_type": "code",
      "metadata": {
        "id": "Xloa49-fQW-y",
        "colab_type": "code",
        "colab": {}
      },
      "source": [
        "!python -m spacy download fr_core_news_sm"
      ],
      "execution_count": 0,
      "outputs": []
    },
    {
      "cell_type": "code",
      "metadata": {
        "id": "O4mKmKnXKWhu",
        "colab_type": "code",
        "outputId": "e952bd32-be8f-47f6-bbef-d2944dfd30d4",
        "colab": {
          "base_uri": "https://localhost:8080/",
          "height": 3622
        }
      },
      "source": [
        "import spacy\n",
        "\n",
        "nlp = spacy.load('fr_core_news_sm')\n",
        "doc = nlp(\"\"\"Sous l'impulsion de la direction de Spectre de rue et de la coordination du programme TAPAJ-Montréal, en collaboration avec TAPAJ-France, un partenariat a été noué avec la Faculté de médecine de l'Université de Sherbrooke (Programme d'études et de recherche en toxicomanie), afin de mener une étude sur l’influence que le programme a sur la trajectoire de vie des jeunes participants qui choisissent TAPAJ comme moyen afin d’améliorer leurs conditions de vie.  Les bases de ce projet ont fait l’objet de discussions dès 2015 et les premiers travaux ont été menés en 2017.  Le projet devrait s’échelonner jusqu’à la fin de 2019.\n",
        "\n",
        "Il s’agit d’un processus de recherche participative incluant à titre de co-chercheurs des intervenants du programme (des deux côtés de l’Atlantique) connaissant le terrain et contribuant à faire évoluer les paramètres de la recherche.\n",
        "  \n",
        "Comme, il ne s’agit pas d’un processus d’évaluation mené à l’interne, dans ce contexte, la question des indicateurs est sans objet.\"\"\")\n",
        "\n",
        "for token in doc:\n",
        "    print(token.text, token.lemma_, token.pos_, token.tag_, token.dep_,\n",
        "            token.shape_, token.is_alpha, token.is_stop)"
      ],
      "execution_count": 5,
      "outputs": [
        {
          "output_type": "stream",
          "text": [
            "Sous Sous ADP ADP___ case Xxxx True False\n",
            "l' le DET DET__Definite=Def|Number=Sing|PronType=Art det x' False False\n",
            "impulsion impulsion NOUN NOUN__Gender=Fem|Number=Sing ROOT xxxx True False\n",
            "de de ADP ADP___ case xx True True\n",
            "la le DET DET__Definite=Def|Gender=Fem|Number=Sing|PronType=Art det xx True True\n",
            "direction direction NOUN NOUN__Gender=Fem|Number=Sing nmod xxxx True False\n",
            "de de ADP ADP___ case xx True True\n",
            "Spectre spectre NOUN NOUN__Gender=Masc|Number=Sing nmod Xxxxx True False\n",
            "de de ADP ADP___ case xx True True\n",
            "rue rue NOUN NOUN__Gender=Fem|Number=Sing nmod xxx True False\n",
            "et et CCONJ CCONJ___ cc xx True True\n",
            "de de ADP ADP___ case xx True True\n",
            "la le DET DET__Definite=Def|Gender=Fem|Number=Sing|PronType=Art det xx True True\n",
            "coordination coordination NOUN NOUN__Gender=Fem|Number=Sing conj xxxx True False\n",
            "du du DET DET__Gender=Masc|Number=Sing det xx True True\n",
            "programme programme NOUN NOUN__Gender=Masc|Number=Sing nmod xxxx True False\n",
            "TAPAJ tapaj VERB VERB__Mood=Ind|Number=Sing|Person=3|Tense=Pres|VerbForm=Fin amod XXXX True False\n",
            "- - PUNCT PUNCT___ punct - False False\n",
            "Montréal montréal NOUN NOUN__Gender=Masc|Number=Sing appos Xxxxx True False\n",
            ", , PUNCT PUNCT___ punct , False False\n",
            "en en ADP ADP___ case xx True True\n",
            "collaboration collaboration NOUN NOUN__Gender=Fem|Number=Sing nmod xxxx True False\n",
            "avec avec ADP ADP___ case xxxx True True\n",
            "TAPAJ tapaj NOUN NOUN__Gender=Masc|Number=Sing nmod XXXX True False\n",
            "- - PUNCT PUNCT___ punct - False False\n",
            "France France PROPN PROPN__Gender=Fem|Number=Sing obl Xxxxx True False\n",
            ", , PUNCT PUNCT___ punct , False False\n",
            "un un DET DET__Definite=Ind|Gender=Masc|Number=Sing|PronType=Art det xx True True\n",
            "partenariat partenariat NOUN NOUN__Gender=Masc|Number=Sing nsubj xxxx True False\n",
            "a avoir AUX AUX__Mood=Ind|Number=Sing|Person=3|Tense=Pres|VerbForm=Fin aux x True True\n",
            "été être AUX AUX__Tense=Past|VerbForm=Part aux:pass xxx True True\n",
            "noué nouer VERB VERB__Gender=Masc|Number=Sing|Tense=Past|VerbForm=Part|Voice=Pass ROOT xxxx True False\n",
            "avec avec ADP ADP___ case xxxx True True\n",
            "la le DET DET__Definite=Def|Gender=Fem|Number=Sing|PronType=Art det xx True True\n",
            "Faculté Faculté PROPN PROPN__Gender=Fem|Number=Sing obl Xxxxx True False\n",
            "de de ADP ADP___ case xx True True\n",
            "médecine médecine NOUN NOUN__Gender=Fem|Number=Sing nmod xxxx True False\n",
            "de de ADP ADP___ case xx True True\n",
            "l' le DET DET__Definite=Def|Number=Sing|PronType=Art det x' False False\n",
            "Université université NOUN NOUN__Gender=Fem|Number=Sing nmod Xxxxx True False\n",
            "de de ADP ADP___ case xx True True\n",
            "Sherbrooke Sherbrooke PROPN PROPN___ nmod Xxxxx True False\n",
            "( ( PUNCT PUNCT___ punct ( False False\n",
            "Programme programme NOUN NOUN__Gender=Masc|Number=Sing appos Xxxxx True False\n",
            "d' de ADP ADP___ case x' False False\n",
            "études étude NOUN NOUN__Gender=Fem|Number=Plur nmod xxxx True False\n",
            "et et CCONJ CCONJ___ cc xx True True\n",
            "de de ADP ADP___ case xx True True\n",
            "recherche recherche NOUN NOUN__Gender=Fem|Number=Sing conj xxxx True False\n",
            "en en ADP ADP___ case xx True True\n",
            "toxicomanie toxicomanie NOUN NOUN__Gender=Fem|Number=Sing nmod xxxx True False\n",
            ") ) PUNCT PUNCT___ punct ) False False\n",
            ", , PUNCT PUNCT___ punct , False False\n",
            "afin afin ADP ADP___ mark xxxx True True\n",
            "de de ADP ADP___ fixed xx True True\n",
            "mener mener VERB VERB__VerbForm=Inf advcl xxxx True False\n",
            "une un DET DET__Definite=Ind|Gender=Fem|Number=Sing|PronType=Art det xxx True True\n",
            "étude étude NOUN NOUN__Gender=Fem|Number=Sing obj xxxx True False\n",
            "sur sur ADP ADP___ case xxx True True\n",
            "l’ l’ DET DET__Definite=Def|Gender=Fem|Number=Sing|PronType=Art det x’ False True\n",
            "influence influencer NOUN NOUN__Gender=Fem|Number=Sing nmod xxxx True False\n",
            "que que SCONJ SCONJ___ mark xxx True True\n",
            "le le DET DET__Definite=Def|Gender=Masc|Number=Sing|PronType=Art det xx True True\n",
            "programme programme NOUN NOUN__Gender=Masc|Number=Sing nsubj xxxx True False\n",
            "a avoir VERB VERB__Mood=Ind|Number=Sing|Person=3|Tense=Pres|VerbForm=Fin acl:relcl x True True\n",
            "sur sur ADP ADP___ case xxx True True\n",
            "la le DET DET__Definite=Def|Gender=Fem|Number=Sing|PronType=Art det xx True True\n",
            "trajectoire trajectoire NOUN NOUN__Gender=Fem|Number=Sing obl xxxx True False\n",
            "de de ADP ADP___ case xx True True\n",
            "vie vie NOUN NOUN__Gender=Fem|Number=Sing nmod xxx True False\n",
            "des un DET DET__Definite=Ind|Number=Plur|PronType=Art det xxx True True\n",
            "jeunes jeune ADJ ADJ__Number=Plur amod xxxx True False\n",
            "participants participant NOUN NOUN__Gender=Masc|Number=Plur nmod xxxx True False\n",
            "qui qui PRON PRON__PronType=Rel nsubj xxx True True\n",
            "choisissent choisir VERB VERB__Mood=Ind|Number=Plur|Person=3|Tense=Pres|VerbForm=Fin acl:relcl xxxx True False\n",
            "TAPAJ tapaj VERB VERB__Gender=Masc|Number=Sing|Tense=Past|VerbForm=Part obj XXXX True False\n",
            "comme comme ADP ADP___ case xxxx True True\n",
            "moyen moyen ADJ ADJ__Gender=Masc|Number=Sing advcl xxxx True False\n",
            "afin afin ADP ADP___ case xxxx True True\n",
            "d’ d’ PROPN PROPN___ advcl x’ False True\n",
            "améliorer améliorer VERB VERB__VerbForm=Inf amod xxxx True False\n",
            "leurs leur DET DET__Number=Plur|Poss=Yes nmod:poss xxxx True True\n",
            "conditions condition NOUN NOUN__Gender=Fem|Number=Plur obj xxxx True False\n",
            "de de ADP ADP___ case xx True True\n",
            "vie vie NOUN NOUN__Gender=Fem|Number=Sing nmod xxx True False\n",
            ". . PUNCT PUNCT___ punct . False False\n",
            "    SPACE     False False\n",
            "Les le DET DET__Definite=Def|Number=Plur|PronType=Art det Xxx True False\n",
            "bases base NOUN NOUN__Gender=Fem|Number=Plur nsubj xxxx True False\n",
            "de de ADP ADP___ case xx True True\n",
            "ce ce DET DET__Gender=Masc|Number=Sing|PronType=Dem det xx True True\n",
            "projet projet NOUN NOUN__Gender=Masc|Number=Sing nmod xxxx True False\n",
            "ont avoir AUX AUX__Mood=Ind|Number=Plur|Person=3|Tense=Pres|VerbForm=Fin aux xxx True True\n",
            "fait faire VERB VERB__Gender=Masc|Number=Sing|Tense=Past|VerbForm=Part ROOT xxxx True True\n",
            "l’ l’ DET DET__Definite=Def|Gender=Masc|Number=Sing|PronType=Art det x’ False True\n",
            "objet objet NOUN NOUN__Gender=Masc|Number=Sing obj xxxx True False\n",
            "de de ADP ADP___ case xx True True\n",
            "discussions discussion NOUN NOUN__Gender=Fem|Number=Plur obl xxxx True False\n",
            "dès dès ADP ADP___ case xxx True True\n",
            "2015 2015 NUM NUM__NumType=Card nummod dddd False False\n",
            "et et CCONJ CCONJ___ cc xx True True\n",
            "les le DET DET__Definite=Def|Number=Plur|PronType=Art det xxx True True\n",
            "premiers premier ADJ ADJ__Gender=Masc|Number=Plur|NumType=Ord amod xxxx True False\n",
            "travaux travail NOUN NOUN__Gender=Masc|Number=Plur nsubj:pass xxxx True False\n",
            "ont avoir AUX AUX__Mood=Ind|Number=Plur|Person=3|Tense=Pres|VerbForm=Fin aux xxx True True\n",
            "été être AUX AUX__Tense=Past|VerbForm=Part aux:pass xxx True True\n",
            "menés mener VERB VERB__Gender=Masc|Number=Plur|Tense=Past|VerbForm=Part|Voice=Pass conj xxxx True False\n",
            "en en ADP ADP___ case xx True True\n",
            "2017 2017 NUM NUM__NumType=Card nummod dddd False False\n",
            ". . PUNCT PUNCT___ punct . False False\n",
            "    SPACE     False False\n",
            "Le le DET DET__Definite=Def|Gender=Masc|Number=Sing|PronType=Art det Xx True False\n",
            "projet projet NOUN NOUN__Gender=Masc|Number=Sing nsubj xxxx True False\n",
            "devrait devoir AUX AUX__Mood=Cnd|Number=Sing|Person=3|Tense=Pres|VerbForm=Fin aux xxxx True False\n",
            "s’ s’ ADV ADV___ ROOT x’ False True\n",
            "échelonner échelonner VERB VERB__VerbForm=Inf xcomp xxxx True False\n",
            "jusqu’ jusqu’ NOUN NOUN__Gender=Masc|Number=Sing obj xxxx’ False False\n",
            "à à ADP ADP___ case x True True\n",
            "la le DET DET__Definite=Def|Gender=Fem|Number=Sing|PronType=Art det xx True True\n",
            "fin fin NOUN NOUN__Gender=Fem|Number=Sing obl xxx True False\n",
            "de de ADP ADP___ case xx True True\n",
            "2019 2019 NUM NUM__NumType=Card nmod dddd False False\n",
            ". . PUNCT PUNCT___ punct . False False\n",
            "\n",
            "\n",
            " \n",
            "\n",
            " SPACE _SP  \n",
            "\n",
            " False False\n",
            "Il il PRON PRON__Gender=Masc|Number=Sing|Person=3 nsubj Xx True False\n",
            "s’ s’ AUX AUX__Mood=Sub|Number=Sing|Person=3|Tense=Pres|VerbForm=Fin iobj x’ False True\n",
            "agit agir VERB VERB__Mood=Ind|Number=Sing|Person=3|Tense=Past|VerbForm=Fin ROOT xxxx True False\n",
            "d’ d’ ADP ADP___ xcomp x’ False True\n",
            "un un DET DET__Definite=Ind|Gender=Masc|Number=Sing|PronType=Art det xx True True\n",
            "processus processus NOUN NOUN__Gender=Masc|Number=Sing obj xxxx True False\n",
            "de de ADP ADP___ case xx True True\n",
            "recherche recherche NOUN NOUN__Gender=Fem|Number=Sing nmod xxxx True False\n",
            "participative participatif ADJ ADJ__Gender=Fem|Number=Sing amod xxxx True False\n",
            "incluant inclure VERB VERB__Tense=Pres|VerbForm=Part acl xxxx True False\n",
            "à à ADP ADP___ case x True True\n",
            "titre titre NOUN NOUN__Gender=Masc|Number=Sing obl xxxx True False\n",
            "de de ADP ADP___ case xx True True\n",
            "co-chercheurs co-chercheur NOUN NOUN__Gender=Masc|Number=Plur nmod xx-xxxx False False\n",
            "des un DET DET__Definite=Ind|Number=Plur|PronType=Art det xxx True True\n",
            "intervenants intervenant NOUN NOUN__Gender=Masc|Number=Plur obj xxxx True False\n",
            "du du DET DET__Gender=Masc|Number=Sing det xx True True\n",
            "programme programme NOUN NOUN__Gender=Masc|Number=Sing nmod xxxx True False\n",
            "( ( PUNCT PUNCT___ punct ( False False\n",
            "des un DET DET__Definite=Ind|Number=Plur|PronType=Art det xxx True True\n",
            "deux deux NUM NUM__NumType=Card nummod xxxx True True\n",
            "côtés côté NOUN NOUN__Gender=Masc|Number=Plur appos xxxx True False\n",
            "de de ADP ADP___ case xx True True\n",
            "l’ l’ PROPN PROPN__Gender=Masc|Number=Sing det x’ False True\n",
            "Atlantique Atlantique PROPN PROPN___ nmod Xxxxx True False\n",
            ") ) PUNCT PUNCT___ punct ) False False\n",
            "connaissant connaître VERB VERB__Tense=Pres|VerbForm=Part acl xxxx True False\n",
            "le le DET DET__Definite=Def|Gender=Masc|Number=Sing|PronType=Art det xx True True\n",
            "terrain terrain NOUN NOUN__Gender=Masc|Number=Sing obj xxxx True False\n",
            "et et CCONJ CCONJ___ cc xx True True\n",
            "contribuant contribuer VERB VERB__Tense=Pres|VerbForm=Part conj xxxx True False\n",
            "à à ADP ADP___ mark x True True\n",
            "faire faire VERB VERB__VerbForm=Inf xcomp xxxx True False\n",
            "évoluer évoluer VERB VERB__VerbForm=Inf xcomp xxxx True False\n",
            "les le DET DET__Definite=Def|Number=Plur|PronType=Art det xxx True True\n",
            "paramètres paramètre NOUN NOUN__Gender=Masc|Number=Plur obj xxxx True False\n",
            "de de ADP ADP___ case xx True True\n",
            "la le DET DET__Definite=Def|Gender=Fem|Number=Sing|PronType=Art det xx True True\n",
            "recherche recherche NOUN NOUN__Gender=Fem|Number=Sing nmod xxxx True False\n",
            ". . PUNCT PUNCT___ punct . False False\n",
            "\n",
            "  \n",
            " \n",
            "  \n",
            " SPACE _SP  \n",
            "  \n",
            " False False\n",
            "Comme Comme SCONJ SCONJ___ mark Xxxxx True False\n",
            ", , PUNCT PUNCT___ punct , False False\n",
            "il il PRON PRON__Gender=Masc|Number=Sing|Person=3 nsubj xx True True\n",
            "ne ne ADV ADV__Polarity=Neg advmod xx True True\n",
            "s’ s’ AUX AUX__Mood=Sub|Number=Sing|Person=3|Tense=Pres|VerbForm=Fin fixed x’ False True\n",
            "agit agir VERB VERB__Mood=Ind|Number=Sing|Person=3|Tense=Past|VerbForm=Fin ROOT xxxx True False\n",
            "pas pas ADV ADV__Polarity=Neg advmod xxx True True\n",
            "d’ d’ ADP ADP___ xcomp x’ False True\n",
            "un un DET DET__Definite=Ind|Gender=Masc|Number=Sing|PronType=Art det xx True True\n",
            "processus processus NOUN NOUN__Gender=Masc|Number=Sing obj xxxx True False\n",
            "d’ d’ PUNCT PUNCT___ amod x’ False True\n",
            "évaluation évaluation NOUN NOUN__Gender=Fem|Number=Sing amod xxxx True False\n",
            "mené mener VERB VERB__Gender=Masc|Number=Sing|Tense=Past|VerbForm=Part acl xxxx True False\n",
            "à à ADP ADP___ fixed x True True\n",
            "l’ l’ PRON PRON__Gender=Masc|Number=Sing|Person=3|PronType=Dem fixed x’ False True\n",
            "interne interne ADJ ADJ__Number=Sing obl xxxx True False\n",
            ", , PUNCT PUNCT___ punct , False False\n",
            "dans dan ADP ADP___ case xxxx True True\n",
            "ce ce DET DET__Gender=Masc|Number=Sing|PronType=Dem det xx True True\n",
            "contexte contexte NOUN NOUN__Gender=Masc|Number=Sing obl xxxx True False\n",
            ", , PUNCT PUNCT___ punct , False False\n",
            "la le DET DET__Definite=Def|Gender=Fem|Number=Sing|PronType=Art det xx True True\n",
            "question question NOUN NOUN__Gender=Fem|Number=Sing nsubj xxxx True False\n",
            "des un DET DET__Definite=Ind|Number=Plur|PronType=Art det xxx True True\n",
            "indicateurs indicateur NOUN NOUN__Gender=Masc|Number=Plur nmod xxxx True False\n",
            "est être AUX AUX__Mood=Ind|Number=Sing|Person=3|Tense=Pres|VerbForm=Fin cop xxx True True\n",
            "sans sans ADP ADP___ case xxxx True True\n",
            "objet objet NOUN NOUN__Gender=Masc|Number=Sing parataxis xxxx True False\n",
            ". . PUNCT PUNCT___ punct . False False\n"
          ],
          "name": "stdout"
        }
      ]
    },
    {
      "cell_type": "code",
      "metadata": {
        "id": "3MsIa8doKZWa",
        "colab_type": "code",
        "colab": {
          "base_uri": "https://localhost:8080/",
          "height": 209
        },
        "outputId": "5dd1da50-50ed-4dd1-d239-df1f4d744cfb"
      },
      "source": [
        "!wget http://embeddings.net/frWac_postag_no_phrase_700_skip_cut50.bin"
      ],
      "execution_count": 17,
      "outputs": [
        {
          "output_type": "stream",
          "text": [
            "--2019-06-08 13:33:15--  http://embeddings.net/frWac_postag_no_phrase_700_skip_cut50.bin\n",
            "Resolving embeddings.net (embeddings.net)... 46.17.175.19\n",
            "Connecting to embeddings.net (embeddings.net)|46.17.175.19|:80... connected.\n",
            "HTTP request sent, awaiting response... 200 OK\n",
            "Length: 604613097 (577M) [application/octet-stream]\n",
            "Saving to: ‘frWac_postag_no_phrase_700_skip_cut50.bin’\n",
            "\n",
            "frWac_postag_no_phr 100%[===================>] 576.60M  1.08MB/s    in 9m 42s  \n",
            "\n",
            "2019-06-08 13:42:57 (1015 KB/s) - ‘frWac_postag_no_phrase_700_skip_cut50.bin’ saved [604613097/604613097]\n",
            "\n"
          ],
          "name": "stdout"
        }
      ]
    },
    {
      "cell_type": "code",
      "metadata": {
        "id": "njEf1St_Rcbb",
        "colab_type": "code",
        "colab": {
          "base_uri": "https://localhost:8080/",
          "height": 279
        },
        "outputId": "af1dfe70-c535-4a46-d074-57284e544817"
      },
      "source": [
        "!pip install word2vec"
      ],
      "execution_count": 12,
      "outputs": [
        {
          "output_type": "stream",
          "text": [
            "Collecting word2vec\n",
            "\u001b[?25l  Downloading https://files.pythonhosted.org/packages/ce/51/5e2782b204015c8aef0ac830297c2f2735143ec90f592b9b3b909bb89757/word2vec-0.10.2.tar.gz (60kB)\n",
            "\u001b[K     |████████████████████████████████| 61kB 3.9MB/s \n",
            "\u001b[?25hRequirement already satisfied: six in /usr/local/lib/python3.6/dist-packages (from word2vec) (1.12.0)\n",
            "Requirement already satisfied: cython in /usr/local/lib/python3.6/dist-packages (from word2vec) (0.29.10)\n",
            "Requirement already satisfied: numpy>=1.9.2 in /usr/local/lib/python3.6/dist-packages (from word2vec) (1.16.4)\n",
            "Requirement already satisfied: scipy in /usr/local/lib/python3.6/dist-packages (from word2vec) (1.3.0)\n",
            "Requirement already satisfied: scikit-learn in /usr/local/lib/python3.6/dist-packages (from word2vec) (0.21.2)\n",
            "Requirement already satisfied: joblib>=0.11 in /usr/local/lib/python3.6/dist-packages (from scikit-learn->word2vec) (0.13.2)\n",
            "Building wheels for collected packages: word2vec\n",
            "  Building wheel for word2vec (setup.py) ... \u001b[?25l\u001b[?25hdone\n",
            "  Stored in directory: /root/.cache/pip/wheels/ef/9f/06/aec42532c9c37e05f936d4d586b15cfdfc9f2ffb62bd7fed1c\n",
            "Successfully built word2vec\n",
            "Installing collected packages: word2vec\n",
            "Successfully installed word2vec-0.10.2\n"
          ],
          "name": "stdout"
        }
      ]
    },
    {
      "cell_type": "code",
      "metadata": {
        "id": "O7pbpNfSKjTn",
        "colab_type": "code",
        "outputId": "4cf020c4-98c9-4fcb-a050-bb4b64a0f67c",
        "colab": {
          "base_uri": "https://localhost:8080/",
          "height": 489
        }
      },
      "source": [
        "import word2vec\n",
        "model = word2vec.load('frWac_postag_no_phrase_700_skip_cut50.bin')\n",
        "indexes, scores = model.cosine('intéressant_a')\n",
        "model.generate_response(indexes,scores).tolist()"
      ],
      "execution_count": 16,
      "outputs": [
        {
          "output_type": "error",
          "ename": "ValueError",
          "evalue": "ignored",
          "traceback": [
            "\u001b[0;31m---------------------------------------------------------------------------\u001b[0m",
            "\u001b[0;31mValueError\u001b[0m                                Traceback (most recent call last)",
            "\u001b[0;32m<ipython-input-16-fc1538eabca9>\u001b[0m in \u001b[0;36m<module>\u001b[0;34m()\u001b[0m\n\u001b[1;32m      1\u001b[0m \u001b[0;32mimport\u001b[0m \u001b[0mword2vec\u001b[0m\u001b[0;34m\u001b[0m\u001b[0;34m\u001b[0m\u001b[0m\n\u001b[0;32m----> 2\u001b[0;31m \u001b[0mmodel\u001b[0m \u001b[0;34m=\u001b[0m \u001b[0mword2vec\u001b[0m\u001b[0;34m.\u001b[0m\u001b[0mload\u001b[0m\u001b[0;34m(\u001b[0m\u001b[0;34m'frWac_no_postag_phrase_500_cbow_cut10.bin'\u001b[0m\u001b[0;34m)\u001b[0m\u001b[0;34m\u001b[0m\u001b[0;34m\u001b[0m\u001b[0m\n\u001b[0m\u001b[1;32m      3\u001b[0m \u001b[0mindexes\u001b[0m\u001b[0;34m,\u001b[0m \u001b[0mscores\u001b[0m \u001b[0;34m=\u001b[0m \u001b[0mmodel\u001b[0m\u001b[0;34m.\u001b[0m\u001b[0mcosine\u001b[0m\u001b[0;34m(\u001b[0m\u001b[0;34m'intéressant_a'\u001b[0m\u001b[0;34m)\u001b[0m\u001b[0;34m\u001b[0m\u001b[0;34m\u001b[0m\u001b[0m\n\u001b[1;32m      4\u001b[0m \u001b[0mmodel\u001b[0m\u001b[0;34m.\u001b[0m\u001b[0mgenerate_response\u001b[0m\u001b[0;34m(\u001b[0m\u001b[0mindexes\u001b[0m\u001b[0;34m,\u001b[0m\u001b[0mscores\u001b[0m\u001b[0;34m)\u001b[0m\u001b[0;34m.\u001b[0m\u001b[0mtolist\u001b[0m\u001b[0;34m(\u001b[0m\u001b[0;34m)\u001b[0m\u001b[0;34m\u001b[0m\u001b[0;34m\u001b[0m\u001b[0m\n",
            "\u001b[0;32m/usr/local/lib/python3.6/dist-packages/word2vec/io.py\u001b[0m in \u001b[0;36mload\u001b[0;34m(fname, kind, *args, **kwargs)\u001b[0m\n\u001b[1;32m     14\u001b[0m             \u001b[0;32mraise\u001b[0m \u001b[0mException\u001b[0m\u001b[0;34m(\u001b[0m\u001b[0;34m\"Could not identify kind\"\u001b[0m\u001b[0;34m)\u001b[0m\u001b[0;34m\u001b[0m\u001b[0;34m\u001b[0m\u001b[0m\n\u001b[1;32m     15\u001b[0m     \u001b[0;32mif\u001b[0m \u001b[0mkind\u001b[0m \u001b[0;34m==\u001b[0m \u001b[0;34m\"bin\"\u001b[0m\u001b[0;34m:\u001b[0m\u001b[0;34m\u001b[0m\u001b[0;34m\u001b[0m\u001b[0m\n\u001b[0;32m---> 16\u001b[0;31m         \u001b[0;32mreturn\u001b[0m \u001b[0mword2vec\u001b[0m\u001b[0;34m.\u001b[0m\u001b[0mWordVectors\u001b[0m\u001b[0;34m.\u001b[0m\u001b[0mfrom_binary\u001b[0m\u001b[0;34m(\u001b[0m\u001b[0mfname\u001b[0m\u001b[0;34m,\u001b[0m \u001b[0;34m*\u001b[0m\u001b[0margs\u001b[0m\u001b[0;34m,\u001b[0m \u001b[0;34m**\u001b[0m\u001b[0mkwargs\u001b[0m\u001b[0;34m)\u001b[0m\u001b[0;34m\u001b[0m\u001b[0;34m\u001b[0m\u001b[0m\n\u001b[0m\u001b[1;32m     17\u001b[0m     \u001b[0;32melif\u001b[0m \u001b[0mkind\u001b[0m \u001b[0;34m==\u001b[0m \u001b[0;34m\"txt\"\u001b[0m\u001b[0;34m:\u001b[0m\u001b[0;34m\u001b[0m\u001b[0;34m\u001b[0m\u001b[0m\n\u001b[1;32m     18\u001b[0m         \u001b[0;32mreturn\u001b[0m \u001b[0mword2vec\u001b[0m\u001b[0;34m.\u001b[0m\u001b[0mWordVectors\u001b[0m\u001b[0;34m.\u001b[0m\u001b[0mfrom_text\u001b[0m\u001b[0;34m(\u001b[0m\u001b[0mfname\u001b[0m\u001b[0;34m,\u001b[0m \u001b[0;34m*\u001b[0m\u001b[0margs\u001b[0m\u001b[0;34m,\u001b[0m \u001b[0;34m**\u001b[0m\u001b[0mkwargs\u001b[0m\u001b[0;34m)\u001b[0m\u001b[0;34m\u001b[0m\u001b[0;34m\u001b[0m\u001b[0m\n",
            "\u001b[0;32m/usr/local/lib/python3.6/dist-packages/word2vec/wordvectors.py\u001b[0m in \u001b[0;36mfrom_binary\u001b[0;34m(cls, fname, vocab_unicode_size, desired_vocab, encoding, new_lines)\u001b[0m\n\u001b[1;32m    219\u001b[0m \u001b[0;34m\u001b[0m\u001b[0m\n\u001b[1;32m    220\u001b[0m                 \u001b[0;31m# read vector\u001b[0m\u001b[0;34m\u001b[0m\u001b[0;34m\u001b[0m\u001b[0;34m\u001b[0m\u001b[0m\n\u001b[0;32m--> 221\u001b[0;31m                 \u001b[0mvector\u001b[0m \u001b[0;34m=\u001b[0m \u001b[0mnp\u001b[0m\u001b[0;34m.\u001b[0m\u001b[0mfromstring\u001b[0m\u001b[0;34m(\u001b[0m\u001b[0mfin\u001b[0m\u001b[0;34m.\u001b[0m\u001b[0mread\u001b[0m\u001b[0;34m(\u001b[0m\u001b[0mbinary_len\u001b[0m\u001b[0;34m)\u001b[0m\u001b[0;34m,\u001b[0m \u001b[0mdtype\u001b[0m\u001b[0;34m=\u001b[0m\u001b[0mnp\u001b[0m\u001b[0;34m.\u001b[0m\u001b[0mfloat32\u001b[0m\u001b[0;34m)\u001b[0m\u001b[0;34m\u001b[0m\u001b[0;34m\u001b[0m\u001b[0m\n\u001b[0m\u001b[1;32m    222\u001b[0m                 \u001b[0;32mif\u001b[0m \u001b[0minclude\u001b[0m\u001b[0;34m:\u001b[0m\u001b[0;34m\u001b[0m\u001b[0;34m\u001b[0m\u001b[0m\n\u001b[1;32m    223\u001b[0m                     \u001b[0mvectors\u001b[0m\u001b[0;34m[\u001b[0m\u001b[0mi\u001b[0m\u001b[0;34m]\u001b[0m \u001b[0;34m=\u001b[0m \u001b[0munitvec\u001b[0m\u001b[0;34m(\u001b[0m\u001b[0mvector\u001b[0m\u001b[0;34m)\u001b[0m\u001b[0;34m\u001b[0m\u001b[0;34m\u001b[0m\u001b[0m\n",
            "\u001b[0;31mValueError\u001b[0m: string size must be a multiple of element size"
          ]
        }
      ]
    },
    {
      "cell_type": "code",
      "metadata": {
        "id": "DDbEVTF6RHTo",
        "colab_type": "code",
        "colab": {
          "base_uri": "https://localhost:8080/",
          "height": 34
        },
        "outputId": "348f69c0-00cc-42af-ab3d-9bd57dc81f15"
      },
      "source": [
        "!pwd"
      ],
      "execution_count": 10,
      "outputs": [
        {
          "output_type": "stream",
          "text": [
            "/content\n"
          ],
          "name": "stdout"
        }
      ]
    },
    {
      "cell_type": "code",
      "metadata": {
        "id": "E6RMKFGGLDy-",
        "colab_type": "code",
        "colab": {}
      },
      "source": [
        "import matplotlib.pyplot as plt\n",
        "import math\n",
        "import numpy as np"
      ],
      "execution_count": 0,
      "outputs": []
    },
    {
      "cell_type": "code",
      "metadata": {
        "id": "HkP9KlKbLcBZ",
        "colab_type": "code",
        "outputId": "30ac7e7b-9811-4a2f-f907-b3ab0d9738c7",
        "colab": {
          "base_uri": "https://localhost:8080/",
          "height": 269
        }
      },
      "source": [
        "plt.plot([math.sin(x) for x in np.arange(-math.pi,math.pi,0.001)])\n",
        "plt.ylabel('some numbers')\n",
        "plt.show()"
      ],
      "execution_count": 0,
      "outputs": [
        {
          "output_type": "display_data",
          "data": {
            "image/png": "[encoded data removed]",
            "text/plain": [
              "<Figure size 432x288 with 1 Axes>"
            ]
          },
          "metadata": {
            "tags": []
          }
        }
      ]
    },
    {
      "cell_type": "code",
      "metadata": {
        "id": "xsz_AeNfLiI9",
        "colab_type": "code",
        "colab": {}
      },
      "source": [
        ""
      ],
      "execution_count": 0,
      "outputs": []
    }
  ]
}